{
  "nbformat": 4,
  "nbformat_minor": 0,
  "metadata": {
    "colab": {
      "provenance": []
    },
    "kernelspec": {
      "name": "python3",
      "display_name": "Python 3"
    },
    "language_info": {
      "name": "python"
    }
  },
  "cells": [
    {
      "cell_type": "markdown",
      "source": [
        "# Setup"
      ],
      "metadata": {
        "id": "mIQ0urhPG6_x"
      }
    },
    {
      "cell_type": "code",
      "execution_count": null,
      "metadata": {
        "colab": {
          "base_uri": "https://localhost:8080/"
        },
        "id": "eAwyc4rMjKBm",
        "outputId": "8f7b1a29-f6e7-4ca6-ecb8-55bcb4c1d0b3"
      },
      "outputs": [
        {
          "output_type": "stream",
          "name": "stdout",
          "text": [
            "Requirement already satisfied: antigranular in /usr/local/lib/python3.10/dist-packages (0.2.12)\n",
            "Requirement already satisfied: diffprivlib<0.7.0,>=0.6.2 in /usr/local/lib/python3.10/dist-packages (from antigranular) (0.6.3)\n",
            "Requirement already satisfied: ipython<8.0.0,>=7.34.0 in /usr/local/lib/python3.10/dist-packages (from antigranular) (7.34.0)\n",
            "Requirement already satisfied: oblv-client<0.2.0,>=0.1.15 in /usr/local/lib/python3.10/dist-packages (from antigranular) (0.1.15)\n",
            "Requirement already satisfied: onnx<2.0.0,>=1.14.0 in /usr/local/lib/python3.10/dist-packages (from antigranular) (1.15.0)\n",
            "Requirement already satisfied: pandas<2.0.0,>=1.5.3 in /usr/local/lib/python3.10/dist-packages (from antigranular) (1.5.3)\n",
            "Requirement already satisfied: pydantic<2.0.0,>=1.10.7 in /usr/local/lib/python3.10/dist-packages (from antigranular) (1.10.13)\n",
            "Requirement already satisfied: requests<3.0.0,>=2.31.0 in /usr/local/lib/python3.10/dist-packages (from antigranular) (2.31.0)\n",
            "Requirement already satisfied: numpy>=1.21.6 in /usr/local/lib/python3.10/dist-packages (from diffprivlib<0.7.0,>=0.6.2->antigranular) (1.23.5)\n",
            "Requirement already satisfied: scikit-learn>=0.24.2 in /usr/local/lib/python3.10/dist-packages (from diffprivlib<0.7.0,>=0.6.2->antigranular) (1.2.2)\n",
            "Requirement already satisfied: scipy>=1.7.3 in /usr/local/lib/python3.10/dist-packages (from diffprivlib<0.7.0,>=0.6.2->antigranular) (1.11.3)\n",
            "Requirement already satisfied: joblib>=0.16.0 in /usr/local/lib/python3.10/dist-packages (from diffprivlib<0.7.0,>=0.6.2->antigranular) (1.3.2)\n",
            "Requirement already satisfied: setuptools>=49.0.0 in /usr/local/lib/python3.10/dist-packages (from diffprivlib<0.7.0,>=0.6.2->antigranular) (67.7.2)\n",
            "Requirement already satisfied: jedi>=0.16 in /usr/local/lib/python3.10/dist-packages (from ipython<8.0.0,>=7.34.0->antigranular) (0.19.1)\n",
            "Requirement already satisfied: decorator in /usr/local/lib/python3.10/dist-packages (from ipython<8.0.0,>=7.34.0->antigranular) (4.4.2)\n",
            "Requirement already satisfied: pickleshare in /usr/local/lib/python3.10/dist-packages (from ipython<8.0.0,>=7.34.0->antigranular) (0.7.5)\n",
            "Requirement already satisfied: traitlets>=4.2 in /usr/local/lib/python3.10/dist-packages (from ipython<8.0.0,>=7.34.0->antigranular) (5.7.1)\n",
            "Requirement already satisfied: prompt-toolkit!=3.0.0,!=3.0.1,<3.1.0,>=2.0.0 in /usr/local/lib/python3.10/dist-packages (from ipython<8.0.0,>=7.34.0->antigranular) (3.0.39)\n",
            "Requirement already satisfied: pygments in /usr/local/lib/python3.10/dist-packages (from ipython<8.0.0,>=7.34.0->antigranular) (2.16.1)\n",
            "Requirement already satisfied: backcall in /usr/local/lib/python3.10/dist-packages (from ipython<8.0.0,>=7.34.0->antigranular) (0.2.0)\n",
            "Requirement already satisfied: matplotlib-inline in /usr/local/lib/python3.10/dist-packages (from ipython<8.0.0,>=7.34.0->antigranular) (0.1.6)\n",
            "Requirement already satisfied: pexpect>4.3 in /usr/local/lib/python3.10/dist-packages (from ipython<8.0.0,>=7.34.0->antigranular) (4.8.0)\n",
            "Requirement already satisfied: urllib3 in /usr/local/lib/python3.10/dist-packages (from oblv-client<0.2.0,>=0.1.15->antigranular) (2.0.7)\n",
            "Requirement already satisfied: protobuf>=3.20.2 in /usr/local/lib/python3.10/dist-packages (from onnx<2.0.0,>=1.14.0->antigranular) (3.20.3)\n",
            "Requirement already satisfied: python-dateutil>=2.8.1 in /usr/local/lib/python3.10/dist-packages (from pandas<2.0.0,>=1.5.3->antigranular) (2.8.2)\n",
            "Requirement already satisfied: pytz>=2020.1 in /usr/local/lib/python3.10/dist-packages (from pandas<2.0.0,>=1.5.3->antigranular) (2023.3.post1)\n",
            "Requirement already satisfied: typing-extensions>=4.2.0 in /usr/local/lib/python3.10/dist-packages (from pydantic<2.0.0,>=1.10.7->antigranular) (4.5.0)\n",
            "Requirement already satisfied: charset-normalizer<4,>=2 in /usr/local/lib/python3.10/dist-packages (from requests<3.0.0,>=2.31.0->antigranular) (3.3.1)\n",
            "Requirement already satisfied: idna<4,>=2.5 in /usr/local/lib/python3.10/dist-packages (from requests<3.0.0,>=2.31.0->antigranular) (3.4)\n",
            "Requirement already satisfied: certifi>=2017.4.17 in /usr/local/lib/python3.10/dist-packages (from requests<3.0.0,>=2.31.0->antigranular) (2023.7.22)\n",
            "Requirement already satisfied: parso<0.9.0,>=0.8.3 in /usr/local/lib/python3.10/dist-packages (from jedi>=0.16->ipython<8.0.0,>=7.34.0->antigranular) (0.8.3)\n",
            "Requirement already satisfied: ptyprocess>=0.5 in /usr/local/lib/python3.10/dist-packages (from pexpect>4.3->ipython<8.0.0,>=7.34.0->antigranular) (0.7.0)\n",
            "Requirement already satisfied: wcwidth in /usr/local/lib/python3.10/dist-packages (from prompt-toolkit!=3.0.0,!=3.0.1,<3.1.0,>=2.0.0->ipython<8.0.0,>=7.34.0->antigranular) (0.2.8)\n",
            "Requirement already satisfied: six>=1.5 in /usr/local/lib/python3.10/dist-packages (from python-dateutil>=2.8.1->pandas<2.0.0,>=1.5.3->antigranular) (1.16.0)\n",
            "Requirement already satisfied: threadpoolctl>=2.0.0 in /usr/local/lib/python3.10/dist-packages (from scikit-learn>=0.24.2->diffprivlib<0.7.0,>=0.6.2->antigranular) (3.2.0)\n"
          ]
        }
      ],
      "source": [
        "pip install antigranular"
      ]
    },
    {
      "cell_type": "code",
      "source": [
        "import antigranular as ag\n",
        "session = ag.login(\"7dWAUQhfDS9x0SkZtUJY0yxegZ/W64aD\", \"9gH3g7/blcxjHIljB2X/ey8pVYE7dkivHbYEFClSfTklQkmp5HF3JrXhtSioIb7w\", competition = \"UN Datathon PETs Track\")"
      ],
      "metadata": {
        "id": "aHtCe4ZXtl_e",
        "colab": {
          "base_uri": "https://localhost:8080/",
          "height": 69
        },
        "outputId": "34fad309-d271-468e-d069-386538b37eb8"
      },
      "execution_count": null,
      "outputs": [
        {
          "output_type": "display_data",
          "data": {
            "text/plain": [
              "<IPython.core.display.HTML object>"
            ],
            "text/html": []
          },
          "metadata": {}
        },
        {
          "output_type": "stream",
          "name": "stdout",
          "text": [
            "Connected to Antigranular server session id: b3fdaf3b-f747-489b-9f3e-1724a0c51b8c, the session will time out if idle for 60 minutes\n",
            "Cell magic '%%ag' registered successfully, use `%%ag` in a notebook cell to execute your python code on Antigranular private python server\n",
            "🚀 Everything's set up and ready to roll!\n"
          ]
        }
      ]
    },
    {
      "cell_type": "code",
      "source": [
        "%%ag\n",
        "import op_diffprivlib\n",
        "from op_pandas import PrivateDataFrame , PrivateSeries\n",
        "import pandas as pd\n",
        "import op_pandas\n",
        "from op_diffprivlib.models import GaussianNB"
      ],
      "metadata": {
        "id": "i55CZ7QrHLvc"
      },
      "execution_count": null,
      "outputs": []
    },
    {
      "cell_type": "code",
      "source": [
        "%%ag\n",
        "\"\"\"\n",
        "Sample response structure\n",
        "{\n",
        "    train_x : priv_train_x,\n",
        "    train_y : priv_train_y,\n",
        "    test_x : priv_test_x\n",
        "}\n",
        "\"\"\"\n",
        "# Obtaining the dictionary containing private objects\n",
        "response = load_dataset(\"undata_fish\")"
      ],
      "metadata": {
        "id": "SdWUv6aknSAj"
      },
      "execution_count": null,
      "outputs": []
    },
    {
      "cell_type": "code",
      "source": [
        "%%ag\n",
        "\n",
        "ag_print(\"response Details: \\n\")\n",
        "ag_print(\"Columns: \\n\", response.columns)\n",
        "ag_print(\"Metadata: \\n\", response.metadata)\n",
        "ag_print(\"Dtypes: \\n\", response.dtypes)"
      ],
      "metadata": {
        "colab": {
          "base_uri": "https://localhost:8080/"
        },
        "id": "44cLK3aIuLu2",
        "outputId": "f2adcfa4-85df-414a-bc5d-9121a05b35a5"
      },
      "execution_count": null,
      "outputs": [
        {
          "output_type": "stream",
          "name": "stdout",
          "text": [
            "response Details: \n",
            "\n",
            "Columns: \n",
            " Index(['objectid', 'fish_main_coastal', 'fish_main_offshore_sea',\n",
            "       'fish_main_freshwater', 'fish_main_aquaculture', 'fish_main_dk',\n",
            "       'fish_main_ref', 'fish_change', 'fish_proddif',\n",
            "       'fish_proddif_find_fish', 'fish_proddif_pests',\n",
            "       'fish_proddif_access_area', 'fish_proddif_fuel',\n",
            "       'fish_proddif_input_access', 'fish_proddif_labour',\n",
            "       'fish_proddif_infrastructure', 'fish_proddif_damage_equip',\n",
            "       'fish_proddif_other', 'fish_proddif_dk', 'fish_proddif_ref',\n",
            "       'fish_inputdif_bait_feed', 'fish_inputdif_fingerling',\n",
            "       'fish_inputdif_gear', 'fish_inputdif_ice', 'fish_inputdif_fuel',\n",
            "       'fish_inputdif_repairs', 'fish_inputdif_labour', 'fish_inputdif_other',\n",
            "       'fish_inputdif_dk', 'fish_inputdif_ref', 'fish_salesmain',\n",
            "       'fish_salesdif', 'fish_saledif_marketing_cost',\n",
            "       'fish_saledif_damage_losses', 'fish_saledif_low_demand',\n",
            "       'fish_saledif_pay_delay', 'fish_saledif_low_prices',\n",
            "       'fish_saledif_processing', 'fish_saledif_competition',\n",
            "       'fish_saledif_other', 'fish_saledif_dk', 'fish_saledif_ref',\n",
            "       'fish_salesprice'],\n",
            "      dtype='object')\n",
            "Metadata: \n",
            " {'objectid': (3496, 239871), 'fish_main_coastal': (0.0, 1.0), 'fish_main_offshore_sea': (0.0, 1.0), 'fish_main_freshwater': (0.0, 1.0), 'fish_main_aquaculture': (0.0, 1.0), 'fish_main_dk': (0.0, 1.0), 'fish_main_ref': (0.0, 1.0), 'fish_change': (0.0, 999.0), 'fish_proddif': (0.0, 999.0), 'fish_proddif_find_fish': (0.0, 1.0), 'fish_proddif_pests': (0.0, 1.0), 'fish_proddif_access_area': (0.0, 1.0), 'fish_proddif_fuel': (0.0, 1.0), 'fish_proddif_input_access': (0.0, 1.0), 'fish_proddif_labour': (0.0, 1.0), 'fish_proddif_infrastructure': (0.0, 1.0), 'fish_proddif_damage_equip': (0.0, 1.0), 'fish_proddif_other': (0.0, 1.0), 'fish_proddif_dk': (0.0, 1.0), 'fish_proddif_ref': (0.0, 0.0), 'fish_inputdif_bait_feed': (0.0, 1.0), 'fish_inputdif_fingerling': (0.0, 1.0), 'fish_inputdif_gear': (0.0, 1.0), 'fish_inputdif_ice': (0.0, 1.0), 'fish_inputdif_fuel': (0.0, 1.0), 'fish_inputdif_repairs': (0.0, 1.0), 'fish_inputdif_labour': (0.0, 1.0), 'fish_inputdif_other': (0.0, 1.0), 'fish_inputdif_dk': (0.0, 0.0), 'fish_inputdif_ref': (0.0, 0.0), 'fish_salesmain': (0.0, 999.0), 'fish_salesdif': (0.0, 999.0), 'fish_saledif_marketing_cost': (0.0, 1.0), 'fish_saledif_damage_losses': (0.0, 1.0), 'fish_saledif_low_demand': (0.0, 1.0), 'fish_saledif_pay_delay': (0.0, 1.0), 'fish_saledif_low_prices': (0.0, 1.0), 'fish_saledif_processing': (0.0, 1.0), 'fish_saledif_competition': (0.0, 1.0), 'fish_saledif_other': (0.0, 1.0), 'fish_saledif_dk': (0.0, 1.0), 'fish_saledif_ref': (0.0, 0.0), 'fish_salesprice': (0.0, 999.0)}\n",
            "Dtypes: \n",
            " objectid                         int64\n",
            "fish_main_coastal              float64\n",
            "fish_main_offshore_sea         float64\n",
            "fish_main_freshwater           float64\n",
            "fish_main_aquaculture          float64\n",
            "fish_main_dk                   float64\n",
            "fish_main_ref                  float64\n",
            "fish_change                    float64\n",
            "fish_proddif                   float64\n",
            "fish_proddif_find_fish         float64\n",
            "fish_proddif_pests             float64\n",
            "fish_proddif_access_area       float64\n",
            "fish_proddif_fuel              float64\n",
            "fish_proddif_input_access      float64\n",
            "fish_proddif_labour            float64\n",
            "fish_proddif_infrastructure    float64\n",
            "fish_proddif_damage_equip      float64\n",
            "fish_proddif_other             float64\n",
            "fish_proddif_dk                float64\n",
            "fish_proddif_ref               float64\n",
            "fish_inputdif_bait_feed        float64\n",
            "fish_inputdif_fingerling       float64\n",
            "fish_inputdif_gear             float64\n",
            "fish_inputdif_ice              float64\n",
            "fish_inputdif_fuel             float64\n",
            "fish_inputdif_repairs          float64\n",
            "fish_inputdif_labour           float64\n",
            "fish_inputdif_other            float64\n",
            "fish_inputdif_dk               float64\n",
            "fish_inputdif_ref              float64\n",
            "fish_salesmain                 float64\n",
            "fish_salesdif                  float64\n",
            "fish_saledif_marketing_cost    float64\n",
            "fish_saledif_damage_losses     float64\n",
            "fish_saledif_low_demand        float64\n",
            "fish_saledif_pay_delay         float64\n",
            "fish_saledif_low_prices        float64\n",
            "fish_saledif_processing        float64\n",
            "fish_saledif_competition       float64\n",
            "fish_saledif_other             float64\n",
            "fish_saledif_dk                float64\n",
            "fish_saledif_ref               float64\n",
            "fish_salesprice                float64\n",
            "dtype: object\n",
            "\n"
          ]
        }
      ]
    },
    {
      "cell_type": "markdown",
      "source": [
        "# Stuff"
      ],
      "metadata": {
        "id": "aOEejZ-1Hci0"
      }
    },
    {
      "cell_type": "code",
      "source": [
        "%%ag\n",
        "\n",
        "train_data, test_data = op_pandas.train_test_split(response)\n",
        "\n",
        "ag_print(\"Train Data Description: \\n\", train_data.describe(eps = 0.1))\n",
        "ag_print(\"Test Data Description: \\n\", test_data.describe(eps = 0.1))"
      ],
      "metadata": {
        "id": "sLXlJPOgyLL5"
      },
      "execution_count": null,
      "outputs": []
    },
    {
      "cell_type": "code",
      "source": [
        "%%ag\n",
        "train_data_cpy = train_data.copy()\n",
        "test_data_cpy = test_data.copy()"
      ],
      "metadata": {
        "id": "G1iThXAuJP3C"
      },
      "execution_count": null,
      "outputs": []
    },
    {
      "cell_type": "code",
      "source": [
        "%%ag\n",
        "ag_print(train_data_cpy.dtypes)"
      ],
      "metadata": {
        "id": "5_1ZJYEUJpcf"
      },
      "execution_count": null,
      "outputs": []
    },
    {
      "cell_type": "code",
      "source": [
        "%%ag\n",
        "train_clean= train_data_cpy.dropna(axis=0)\n",
        "test_clean= test_data_cpy.dropna(axis=0)"
      ],
      "metadata": {
        "colab": {
          "base_uri": "https://localhost:8080/"
        },
        "id": "9Bvd0W6BKK-b",
        "outputId": "282eaf43-df1f-4f8c-ce72-48fb9d44ef1d"
      },
      "execution_count": null,
      "outputs": [
        {
          "output_type": "stream",
          "name": "stderr",
          "text": [
            "/code/dependencies/op_pandas/op_pandas/core/private_dataframe.py:115: SettingWithCopyWarning: \n",
            "A value is trying to be set on a copy of a slice from a DataFrame\n",
            "\n",
            "See the caveats in the documentation: https://pandas.pydata.org/pandas-docs/stable/user_guide/indexing.html#returning-a-view-versus-a-copy\n",
            "  self._df[col].clip(lower=self._metadata[col][0], upper=self._metadata[col][1], inplace=True)\n",
            "\n"
          ]
        }
      ]
    },
    {
      "cell_type": "code",
      "source": [
        "%%ag\n",
        "\"\"\"\n",
        "Columns:\n",
        " Index(['objectid', 'fish_main_coastal', 'fish_main_offshore_sea',\n",
        "       'fish_main_freshwater', 'fish_main_aquaculture', 'fish_main_dk',\n",
        "       'fish_main_ref', 'fish_change', 'fish_proddif',\n",
        "       'fish_proddif_find_fish', 'fish_proddif_pests',\n",
        "       'fish_proddif_access_area', 'fish_proddif_fuel',\n",
        "       'fish_proddif_input_access', 'fish_proddif_labour',\n",
        "       'fish_proddif_infrastructure', 'fish_proddif_damage_equip',\n",
        "       'fish_proddif_other', 'fish_proddif_dk', 'fish_proddif_ref',\n",
        "       'fish_inputdif_bait_feed', 'fish_inputdif_fingerling',\n",
        "       'fish_inputdif_gear', 'fish_inputdif_ice', 'fish_inputdif_fuel',\n",
        "       'fish_inputdif_repairs', 'fish_inputdif_labour', 'fish_inputdif_other',\n",
        "       'fish_inputdif_dk', 'fish_inputdif_ref', 'fish_salesmain',\n",
        "       'fish_salesdif', 'fish_saledif_marketing_cost',\n",
        "       'fish_saledif_damage_losses', 'fish_saledif_low_demand',\n",
        "       'fish_saledif_pay_delay', 'fish_saledif_low_prices',\n",
        "       'fish_saledif_processing', 'fish_saledif_competition',\n",
        "       'fish_saledif_other', 'fish_saledif_dk', 'fish_saledif_ref',\n",
        "       'fish_salesprice'],\n",
        "      dtype='object')\n",
        "\"\"\"\n",
        "\n",
        "# Unpacking the response dictionary\n",
        "train_x = train_clean\n",
        "train_y = train_clean['fish_salesprice']\n",
        "test_x = test_clean\n",
        "test_y = test_clean['fish_salesprice']\n"
      ],
      "metadata": {
        "id": "T9B6eUoU-NOn",
        "colab": {
          "base_uri": "https://localhost:8080/"
        },
        "outputId": "f72e184c-0c4a-4bbd-f37d-2eb44d6dacec"
      },
      "execution_count": null,
      "outputs": [
        {
          "output_type": "stream",
          "name": "stderr",
          "text": [
            "/code/dependencies/op_pandas/op_pandas/core/private_series.py:168: SettingWithCopyWarning: \n",
            "A value is trying to be set on a copy of a slice from a DataFrame\n",
            "\n",
            "See the caveats in the documentation: https://pandas.pydata.org/pandas-docs/stable/user_guide/indexing.html#returning-a-view-versus-a-copy\n",
            "  self._series.clip(lower=self._metadata[0], upper=self._metadata[1], inplace=True)\n",
            "\n"
          ]
        }
      ]
    },
    {
      "cell_type": "code",
      "source": [
        "%%ag\n",
        "clf = GaussianNB(bounds=(0,100000000000))"
      ],
      "metadata": {
        "id": "0QcxM-WzzZ_t"
      },
      "execution_count": null,
      "outputs": []
    },
    {
      "cell_type": "code",
      "source": [
        "%%ag\n",
        "clf.fit(train_x, train_y)"
      ],
      "metadata": {
        "id": "saEYeK5I4kwu"
      },
      "execution_count": null,
      "outputs": []
    },
    {
      "cell_type": "code",
      "source": [
        "%%ag\n",
        "clf.predict(test_x)"
      ],
      "metadata": {
        "id": "xquTnbKZvdJD"
      },
      "execution_count": null,
      "outputs": []
    },
    {
      "cell_type": "code",
      "source": [
        "%%ag\n",
        "ag_print(\"Test accuracy: %f\" % clf.score(test_x, test_y))"
      ],
      "metadata": {
        "colab": {
          "base_uri": "https://localhost:8080/"
        },
        "id": "ApqM-FNOvYQf",
        "outputId": "08f2d9c3-7522-4104-b1ea-61b2d4e9fc70"
      },
      "execution_count": null,
      "outputs": [
        {
          "output_type": "stream",
          "name": "stdout",
          "text": [
            "Test accuracy: 0.959128\n",
            "\n"
          ]
        }
      ]
    },
    {
      "cell_type": "markdown",
      "source": [
        "# Exit/Check"
      ],
      "metadata": {
        "id": "WjNxBK6uH2zW"
      }
    },
    {
      "cell_type": "markdown",
      "source": [
        "Have we fucked up?"
      ],
      "metadata": {
        "id": "qY66TDy-u1y4"
      }
    },
    {
      "cell_type": "code",
      "source": [
        "session.privacy_odometer()"
      ],
      "metadata": {
        "colab": {
          "base_uri": "https://localhost:8080/"
        },
        "id": "z6suWfPLurIT",
        "outputId": "4362aad9-f643-44ee-c400-e54690124a5a"
      },
      "execution_count": null,
      "outputs": [
        {
          "output_type": "execute_result",
          "data": {
            "text/plain": [
              "{'total_epsilon_used': 0.4999999999999992,\n",
              " 'total_delta_used': 0.0,\n",
              " 'library_costs': {'op_pandas': {'total_delta': 0,\n",
              "   'total_epsilon': 0.4999999999999992,\n",
              "   'total_requests': 18},\n",
              "  'op_dpl': {'total_delta': 0, 'total_epsilon': 0, 'total_requests': 2}},\n",
              " 'dataset_costs': {'undata_fish': {'delta': 0, 'eps': 0.4999999999999992}}}"
            ]
          },
          "metadata": {},
          "execution_count": 121
        }
      ]
    },
    {
      "cell_type": "code",
      "source": [
        "session.terminate_session()"
      ],
      "metadata": {
        "colab": {
          "base_uri": "https://localhost:8080/"
        },
        "id": "PMobE-dkGz-9",
        "outputId": "10617de1-4760-4716-ed7c-875d0e8593ad"
      },
      "execution_count": null,
      "outputs": [
        {
          "output_type": "execute_result",
          "data": {
            "text/plain": [
              "{'status': 'ok'}"
            ]
          },
          "metadata": {},
          "execution_count": 122
        }
      ]
    }
  ]
}